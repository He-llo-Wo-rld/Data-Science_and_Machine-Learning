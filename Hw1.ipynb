{
 "cells": [
  {
   "cell_type": "code",
   "execution_count": 2,
   "id": "243650cc",
   "metadata": {},
   "outputs": [],
   "source": [
    "import numpy as np"
   ]
  },
  {
   "cell_type": "markdown",
   "id": "69d56265",
   "metadata": {},
   "source": [
    "#1.Створіть одновимірний масив (вектор) з першими 10-ма натуральними числами та виведіть його значення."
   ]
  },
  {
   "cell_type": "code",
   "execution_count": 6,
   "id": "eee6450e",
   "metadata": {},
   "outputs": [
    {
     "name": "stdout",
     "output_type": "stream",
     "text": [
      "[ 1  2  3  4  5  6  7  8  9 10]\n"
     ]
    }
   ],
   "source": [
    "\n",
    "a = np.arange(1,11)\n",
    "print(a)"
   ]
  },
  {
   "cell_type": "markdown",
   "id": "7e17409e",
   "metadata": {},
   "source": [
    "#2.Створіть двовимірний масив (матрицю) розміром 3x3, заповніть його нулями та виведіть його значення."
   ]
  },
  {
   "cell_type": "code",
   "execution_count": 5,
   "id": "f5761406",
   "metadata": {},
   "outputs": [
    {
     "name": "stdout",
     "output_type": "stream",
     "text": [
      "[[0. 0. 0.]\n",
      " [0. 0. 0.]\n",
      " [0. 0. 0.]]\n",
      "[[0 0 0]\n",
      " [0 0 0]\n",
      " [0 0 0]]\n"
     ]
    }
   ],
   "source": [
    "a=np.zeros((3,3))\n",
    "print(a)\n",
    "b=np.full((3,3),0)\n",
    "print(b)"
   ]
  },
  {
   "cell_type": "markdown",
   "id": "5ea827c5",
   "metadata": {},
   "source": [
    "#3.Створіть масив розміром 5x5, заповніть його випадковими цілими числами в діапазоні від 1 до 10 та виведіть його значення."
   ]
  },
  {
   "cell_type": "code",
   "execution_count": 7,
   "id": "6ff682e4",
   "metadata": {},
   "outputs": [
    {
     "name": "stdout",
     "output_type": "stream",
     "text": [
      "[[ 9  7  4  4 10]\n",
      " [ 5  7  9  9  8]\n",
      " [ 6  1  3 10 10]\n",
      " [ 5  5  8  6 10]\n",
      " [ 3  3  8  1  6]]\n"
     ]
    }
   ],
   "source": [
    "a= np.random.randint(1,11,(5,5))\n",
    "print(a)"
   ]
  },
  {
   "cell_type": "markdown",
   "id": "2477baf5",
   "metadata": {},
   "source": [
    "#4.Створіть масив розміром 4x4, заповніть його випадковими дійсними числами в діапазоні від 0 до 1 та виведіть його значення."
   ]
  },
  {
   "cell_type": "code",
   "execution_count": 8,
   "id": "85666ba5",
   "metadata": {},
   "outputs": [
    {
     "name": "stdout",
     "output_type": "stream",
     "text": [
      "[[0.47863492 0.99499389 0.42182712 0.65148643]\n",
      " [0.51219523 0.82388342 0.44705817 0.47529704]\n",
      " [0.40399842 0.02345838 0.70553931 0.93625902]\n",
      " [0.13491986 0.5823494  0.0969226  0.43579375]]\n"
     ]
    }
   ],
   "source": [
    "a =np.random.random((4,4))\n",
    "print(a)"
   ]
  },
  {
   "cell_type": "markdown",
   "id": "e3e9c80b",
   "metadata": {},
   "source": [
    "#5.Створіть два одновимірних масиви розміром 5, заповніть їх випадковими цілими числами в діапазоні від 1 до 10 та виконайте на них поелементні операції додавання, віднімання та множення."
   ]
  },
  {
   "cell_type": "code",
   "execution_count": 9,
   "id": "999a304d",
   "metadata": {},
   "outputs": [
    {
     "name": "stdout",
     "output_type": "stream",
     "text": [
      "[11 17 16 10 13]\n",
      "[ 3 -1  4  6  7]\n",
      "[28 72 60 16 30]\n"
     ]
    }
   ],
   "source": [
    "a= np.random.randint(1,11,(5,))\n",
    "b= np.random.randint(1,11,(5,))\n",
    "print(a+b)\n",
    "print(a-b)\n",
    "print(a*b)"
   ]
  },
  {
   "cell_type": "markdown",
   "id": "5ea8e6b3",
   "metadata": {},
   "source": [
    "#6.Створіть два вектори розміром 7, заповніть довільними числами та знайдіть їх скалярний добуток."
   ]
  },
  {
   "cell_type": "code",
   "execution_count": 18,
   "id": "295ed6a3",
   "metadata": {},
   "outputs": [
    {
     "name": "stdout",
     "output_type": "stream",
     "text": [
      "2.5897083756892454\n"
     ]
    }
   ],
   "source": [
    "a= np.random.random(7)\n",
    "b= np.random.random(7)\n",
    "print(np.dot(a,b))"
   ]
  },
  {
   "cell_type": "markdown",
   "id": "63859e3c",
   "metadata": {},
   "source": [
    "#7.Створіть дві матриці розміром 2x2 та 2x3, заповніть їх випадковими цілими числами в діапазоні від 1 до 10 та перемножте їх між собою."
   ]
  },
  {
   "cell_type": "code",
   "execution_count": 21,
   "id": "61e0e33f",
   "metadata": {},
   "outputs": [
    {
     "name": "stdout",
     "output_type": "stream",
     "text": [
      "[[ 98 125  75]\n",
      " [108 135  81]]\n"
     ]
    }
   ],
   "source": [
    "a= np.random.randint(1,11,(2,2))\n",
    "b= np.random.randint(1,11,(2,3))\n",
    "print(np.dot(a,b))"
   ]
  },
  {
   "cell_type": "markdown",
   "id": "c8debacf",
   "metadata": {},
   "source": [
    "#8.Створіть матрицю розміром 3x3, заповніть її випадковими цілими числами в діапазоні від 1 до 10 та знайдіть її обернену матрицю."
   ]
  },
  {
   "cell_type": "code",
   "execution_count": 25,
   "id": "005d6603",
   "metadata": {},
   "outputs": [
    {
     "name": "stdout",
     "output_type": "stream",
     "text": [
      "[[-0.0617284  -0.12345679  0.2345679 ]\n",
      " [-0.2037037   0.09259259  0.07407407]\n",
      " [ 0.31481481  0.12962963 -0.2962963 ]]\n"
     ]
    }
   ],
   "source": [
    "a= np.random.randint(1,11,(3,3))\n",
    "inv_a = np.linalg.inv(a)\n",
    "print(inv_a)"
   ]
  },
  {
   "cell_type": "markdown",
   "id": "b8bc0209",
   "metadata": {},
   "source": [
    "#9.Створіть матрицю розміром 4x4, заповніть її випадковими дійсними числами в діапазоні від 0 до 1 та транспонуйте її."
   ]
  },
  {
   "cell_type": "code",
   "execution_count": 26,
   "id": "e948122d",
   "metadata": {},
   "outputs": [
    {
     "name": "stdout",
     "output_type": "stream",
     "text": [
      "[[0.36455352 0.16304697 0.56018346 0.46616249]\n",
      " [0.3978663  0.99047518 0.54328652 0.71077685]\n",
      " [0.91562561 0.83856461 0.11512175 0.14588882]\n",
      " [0.45476445 0.3572815  0.13458802 0.33598207]]\n"
     ]
    }
   ],
   "source": [
    "a=np.random.random((4,4))\n",
    "print(a.T)"
   ]
  },
  {
   "cell_type": "markdown",
   "id": "80ec2851",
   "metadata": {},
   "source": [
    "#10.Створіть матрицю розміром 3x4 та вектор розміром 4, заповніть їх випадковими цілими числами в діапазоні від 1 до 10 та перемножте матрицю на вектор."
   ]
  },
  {
   "cell_type": "code",
   "execution_count": 27,
   "id": "d3012873",
   "metadata": {},
   "outputs": [
    {
     "name": "stdout",
     "output_type": "stream",
     "text": [
      "[173 217 236]\n"
     ]
    }
   ],
   "source": [
    "a=np.random.randint(1,11,(3,4))\n",
    "b=np.random.randint(1,11,(4,))\n",
    "print(np.dot(a,b))"
   ]
  },
  {
   "cell_type": "markdown",
   "id": "d2cc06e3",
   "metadata": {},
   "source": [
    "#11.Створіть матрицю розміром 2x3 та вектор розміром 3, заповніть їх випадковими дійсними числами в діапазоні від 0 до 1 та перемножте матрицю на вектор."
   ]
  },
  {
   "cell_type": "code",
   "execution_count": 30,
   "id": "11e25003",
   "metadata": {},
   "outputs": [
    {
     "name": "stdout",
     "output_type": "stream",
     "text": [
      "[0.55102985 0.70325183]\n"
     ]
    }
   ],
   "source": [
    "a=np.random.random((2,3))\n",
    "b=np.random.random(3)\n",
    "print(np.dot(a,b))"
   ]
  },
  {
   "cell_type": "markdown",
   "id": "af5b3cd4",
   "metadata": {},
   "source": [
    "#12.Створіть дві матриці розміром 2x2, заповніть їх випадковими цілими числами в діапазоні від 1 до 10 та виконайте їхнє поелементне множення."
   ]
  },
  {
   "cell_type": "code",
   "execution_count": 32,
   "id": "5f5ca64f",
   "metadata": {},
   "outputs": [
    {
     "name": "stdout",
     "output_type": "stream",
     "text": [
      "[[ 6 35]\n",
      " [49 40]]\n"
     ]
    }
   ],
   "source": [
    "a=np.random.randint(1,11,(2,2))\n",
    "b=np.random.randint(1,11,(2,2))\n",
    "print(a*b)"
   ]
  },
  {
   "cell_type": "markdown",
   "id": "7a7f7e6f",
   "metadata": {},
   "source": [
    "#13.Створіть дві матриці розміром 2x2, заповніть їх випадковими цілими числами в діапазоні від 1 до 10 та знайдіть їх добуток."
   ]
  },
  {
   "cell_type": "code",
   "execution_count": 34,
   "id": "835fdf85",
   "metadata": {},
   "outputs": [
    {
     "name": "stdout",
     "output_type": "stream",
     "text": [
      "[[20 42]\n",
      " [68 79]]\n"
     ]
    }
   ],
   "source": [
    "a=np.random.randint(1,11,(2,2))\n",
    "b=np.random.randint(1,11,(2,2))\n",
    "print(np.dot(a,b))"
   ]
  },
  {
   "cell_type": "markdown",
   "id": "ffac4bcb",
   "metadata": {},
   "source": [
    "#14.Створіть матрицю розміром 5x5, заповніть її випадковими цілими числами в діапазоні від 1 до 100 та знайдіть суму елементів матриці."
   ]
  },
  {
   "cell_type": "code",
   "execution_count": 35,
   "id": "a20d3d62",
   "metadata": {},
   "outputs": [
    {
     "name": "stdout",
     "output_type": "stream",
     "text": [
      "1207\n"
     ]
    }
   ],
   "source": [
    "a=np.random.randint(1,101,(5,5))\n",
    "print(np.sum(a))\n"
   ]
  },
  {
   "cell_type": "markdown",
   "id": "5d5a2d70",
   "metadata": {},
   "source": [
    "#15.Створіть дві матриці розміром 4x4, заповніть їх випадковими цілими числами в діапазоні від 1 до 10 та знайдіть їхню різницю."
   ]
  },
  {
   "cell_type": "code",
   "execution_count": 36,
   "id": "d895b639",
   "metadata": {},
   "outputs": [
    {
     "name": "stdout",
     "output_type": "stream",
     "text": [
      "[[ 2 -6  6 -7]\n",
      " [ 9  3  0  1]\n",
      " [ 3  1 -4 -1]\n",
      " [-3  1  0  6]]\n"
     ]
    }
   ],
   "source": [
    "a=np.random.randint(1,11,(4,4))\n",
    "b=np.random.randint(1,11,(4,4))\n",
    "print(a-b)"
   ]
  },
  {
   "cell_type": "markdown",
   "id": "c44477ab",
   "metadata": {},
   "source": [
    "#16.Створіть матрицю розміром 3x3, заповніть її випадковими дійсними числами в діапазоні від 0 до 1 та знайдіть вектор-стовпчик, що містить суму елементів кожного рядка матриці."
   ]
  },
  {
   "cell_type": "code",
   "execution_count": 41,
   "id": "455538a7",
   "metadata": {},
   "outputs": [
    {
     "name": "stdout",
     "output_type": "stream",
     "text": [
      "[[19]\n",
      " [13]\n",
      " [10]]\n"
     ]
    }
   ],
   "source": [
    "a= np.random.randint(1,11,(3,3))\n",
    "\n",
    "print(np.sum(a, axis=1).reshape(-1,1))"
   ]
  },
  {
   "cell_type": "markdown",
   "id": "95ef3cda",
   "metadata": {},
   "source": [
    "#17.Створіть матрицю розміром 3x4 з довільними цілими числами і створінь матрицю з квадратами цих чисел."
   ]
  },
  {
   "cell_type": "code",
   "execution_count": 42,
   "id": "ceb50e59",
   "metadata": {},
   "outputs": [
    {
     "name": "stdout",
     "output_type": "stream",
     "text": [
      "[[ 9 49  1 25]\n",
      " [36  1 16  1]\n",
      " [64 25 49  4]]\n"
     ]
    }
   ],
   "source": [
    "a= np.random.randint(1,11,(3,4))\n",
    "b= a**2\n",
    "print(b)"
   ]
  },
  {
   "cell_type": "markdown",
   "id": "a5bc61e4",
   "metadata": {},
   "source": [
    "#18.Створіть вектор розміром 4, заповніть його випадковими цілими числами в діапазоні від 1 до 50 та знайдіть вектор з квадратними коренями цих чисел"
   ]
  },
  {
   "cell_type": "code",
   "execution_count": 43,
   "id": "356215e7",
   "metadata": {},
   "outputs": [
    {
     "name": "stdout",
     "output_type": "stream",
     "text": [
      "[6.92820323 4.35889894 7.07106781 6.4807407 ]\n"
     ]
    }
   ],
   "source": [
    "a=np.random.randint(1,51,(4))\n",
    "print(np.sqrt(a))"
   ]
  },
  {
   "cell_type": "markdown",
   "id": "94d827ef",
   "metadata": {},
   "source": [
    "1. Замініть усі непарні числа в arr на -1 arr = np.array([0, 1, 2, 3, 4, 5, 6, 7, 8, 9])"
   ]
  },
  {
   "cell_type": "code",
   "execution_count": 3,
   "id": "f65f02e0",
   "metadata": {},
   "outputs": [
    {
     "name": "stdout",
     "output_type": "stream",
     "text": [
      "[ 0 -1  2 -1  4 -1  6 -1  8 -1]\n"
     ]
    }
   ],
   "source": [
    "arr=np.array([0,1,2,3,4,5,6,7,8,9])\n",
    "arr=np.where(arr%2==1,-1,arr)\n",
    "print(arr)"
   ]
  },
  {
   "cell_type": "markdown",
   "id": "f61ae655",
   "metadata": {},
   "source": [
    "2. Створіть та перетворіть 1D-масив на 2D-масив із 2 рядками"
   ]
  },
  {
   "cell_type": "code",
   "execution_count": 5,
   "id": "1ceb8883",
   "metadata": {},
   "outputs": [
    {
     "name": "stdout",
     "output_type": "stream",
     "text": [
      "[[6 1 6 7 9]\n",
      " [5 1 1 7 2]]\n"
     ]
    }
   ],
   "source": [
    "a=np.random.randint(1,11,10)\n",
    "\n",
    "a_2d=a.reshape(2,5)\n",
    "print(a_2d)"
   ]
  },
  {
   "cell_type": "markdown",
   "id": "f6471489",
   "metadata": {},
   "source": [
    "3. Створіть два двовимірні масиви а і b, та складіть масиви їх вертикально"
   ]
  },
  {
   "cell_type": "code",
   "execution_count": 7,
   "id": "47146a2d",
   "metadata": {},
   "outputs": [
    {
     "name": "stdout",
     "output_type": "stream",
     "text": [
      "[[ 8  7  8  1  3]\n",
      " [ 3  3  6  1  1]\n",
      " [ 6  2  4  2  5]\n",
      " [ 2  2  2 10  5]]\n"
     ]
    }
   ],
   "source": [
    "a = np.random.randint(1, 11, (2, 5))\n",
    "b = np.random.randint(1, 11, (2, 5))\n",
    "\n",
    "result = np.vstack((a, b))\n",
    "print(result)"
   ]
  },
  {
   "cell_type": "markdown",
   "id": "40559d68",
   "metadata": {},
   "source": [
    "4. Створіть наступний шаблон без жорсткого кодування(Hard coding) . Використовуйте лише функції Numpy і наведений нижче масив введення Input:a = np.array([1,2,3])\n",
    "\n",
    "Output:array([1, 1, 1, 2, 2, 2, 3, 3, 3, 1, 2, 3, 1, 2, 3, 1, 2, 3])"
   ]
  },
  {
   "cell_type": "code",
   "execution_count": 8,
   "id": "57da0ce1",
   "metadata": {},
   "outputs": [
    {
     "name": "stdout",
     "output_type": "stream",
     "text": [
      "[1 1 1 2 2 2 3 3 3 1 2 3 1 2 3 1 2 3]\n"
     ]
    }
   ],
   "source": [
    "a = np.array([1,2,3])\n",
    "output = np.concatenate([np.repeat(a, 3), np.tile(a, 3)])\n",
    "print(output)"
   ]
  },
  {
   "cell_type": "markdown",
   "id": "5eb6da22",
   "metadata": {},
   "source": [
    "5. Отримайте спільні елементи між a і b\n",
    "\n",
    "a = np.array([1,2,3,2,3,4,3,4,5,6]) b = np.array([7,2,10,2,7,4,9,4,9,8])\n",
    "\n"
   ]
  },
  {
   "cell_type": "code",
   "execution_count": 9,
   "id": "295e112b",
   "metadata": {},
   "outputs": [
    {
     "name": "stdout",
     "output_type": "stream",
     "text": [
      "[2 4]\n"
     ]
    }
   ],
   "source": [
    "a = np.array([1,2,3,2,3,4,3,4,5,6])\n",
    "b = np.array([7,2,10,2,7,4,9,4,9,8])\n",
    "\n",
    "common = np.intersect1d(a, b)\n",
    "print(common)"
   ]
  },
  {
   "cell_type": "markdown",
   "id": "51a269c1",
   "metadata": {},
   "source": [
    "6. Отримайте позиції перших 5 максимальних значень у заданому масиві a\n",
    "\n",
    "np.random.seed(100) a = np.random.uniform(1,50, 20)"
   ]
  },
  {
   "cell_type": "code",
   "execution_count": 12,
   "id": "d0f47a2f",
   "metadata": {},
   "outputs": [
    {
     "name": "stdout",
     "output_type": "stream",
     "text": [
      "[27.62684215 14.64009987 21.80136195 42.39403048  1.23122395  6.95688692\n",
      " 33.86670515 41.466785    7.69862289 29.17957314 44.67477576 11.25090398\n",
      " 10.08108276  6.31046763 11.76517714 48.95256545 40.77247431  9.42510962\n",
      " 40.99501269 14.42961361]\n",
      "[18  7  3 10 15]\n"
     ]
    }
   ],
   "source": [
    "np.random.seed(100) \n",
    "a = np.random.uniform(1,50, 20)\n",
    "print(a)\n",
    "\n",
    "indices = np.argsort(a)[-5:]\n",
    "print(indices)"
   ]
  },
  {
   "cell_type": "markdown",
   "id": "c957bd26",
   "metadata": {},
   "source": [
    "7. Вилучіть усі значення NaN із одновимірного масиву\n",
    "\n",
    "а=np.array([1,2,3,np.nan,5,6,7,np.nan])"
   ]
  },
  {
   "cell_type": "code",
   "execution_count": 16,
   "id": "5820f039",
   "metadata": {},
   "outputs": [
    {
     "name": "stdout",
     "output_type": "stream",
     "text": [
      "[1. 2. 3. 5. 6. 7.]\n",
      "[1. 2. 3. 5. 6. 7.]\n"
     ]
    }
   ],
   "source": [
    "a = np.array([1,2,3,np.nan,5,6,7,np.nan])\n",
    "\n",
    "result1 = np.array([x for x in a if not np.isnan(x)])\n",
    "print(result1)\n",
    "\n",
    "result2 = a[~np.isnan(a)]\n",
    "print(result2)"
   ]
  },
  {
   "cell_type": "markdown",
   "id": "7223bc53",
   "metadata": {},
   "source": [
    "8. Обчисліть евклідову відстань між двома масивами a і b.\n",
    "\n",
    "a = np.array([1,2,3,4,5]) b = np.array([4,5,6,7,8])"
   ]
  },
  {
   "cell_type": "code",
   "execution_count": 17,
   "id": "ee75d4af",
   "metadata": {},
   "outputs": [
    {
     "name": "stdout",
     "output_type": "stream",
     "text": [
      "6.708203932499369\n",
      "6.708203932499369\n"
     ]
    }
   ],
   "source": [
    "a = np.array([1,2,3,4,5])\n",
    "b = np.array([4,5,6,7,8])\n",
    "\n",
    "distance = np.linalg.norm(a - b)\n",
    "print(distance)\n",
    "\n",
    "distance_manual = np.sqrt(np.sum((a - b)**2))\n",
    "print(distance_manual)"
   ]
  },
  {
   "cell_type": "markdown",
   "id": "ba6f9ec8",
   "metadata": {},
   "source": [
    "9. Знайдіть індекс 5-го повторення числа 1 у масиві x\n",
    "\n",
    "x = np.array([1, 2, 1, 1, 3, 4, 3, 1, 1, 2, 1, 1, 2])\n",
    "\n"
   ]
  },
  {
   "cell_type": "code",
   "execution_count": 22,
   "id": "82707bed",
   "metadata": {},
   "outputs": [
    {
     "name": "stdout",
     "output_type": "stream",
     "text": [
      "8\n"
     ]
    }
   ],
   "source": [
    "x = np.array([1, 2, 1, 1, 3, 4, 3, 1, 1, 2, 1, 1, 2])\n",
    "\n",
    "indices = np.where(x == 1)[0]\n",
    "fifth_index = indices[4]\n",
    "print(fifth_index)"
   ]
  },
  {
   "cell_type": "markdown",
   "id": "40aaf5d0",
   "metadata": {},
   "source": [
    "10. Знайдіть повторювані записи (від 2-го випадку повторення і далі) у заданому масиві і позначте їх як True. Перше повторення має бути False.\n",
    "\n",
    "# Input np.random.seed(100) a = np.random.randint(0, 5, 10)\n",
    "\n",
    "[0 0 3 0 2 4 2 2 2 2] #Output [False True False True False False True True True True]"
   ]
  },
  {
   "cell_type": "code",
   "execution_count": 28,
   "id": "78012394",
   "metadata": {},
   "outputs": [
    {
     "name": "stdout",
     "output_type": "stream",
     "text": [
      "[0 0 3 0 2 4 2 2 2 2]\n",
      "[False  True False  True False False  True  True  True  True]\n"
     ]
    }
   ],
   "source": [
    "np.random.seed(100)\n",
    "a = np.random.randint(0, 5, 10)\n",
    "print(a)\n",
    "\n",
    "\n",
    "#seen = {}\n",
    "#for i in a:\n",
    "#    if i in seen:\n",
    "#        seen[i] = True\n",
    "#    else:\n",
    "#        seen[i] = False\n",
    "#print([v for k, v in seen.items()])\n",
    "\n",
    "result = np.zeros_like(a, dtype=bool)\n",
    "seen = set()\n",
    "for i, val in enumerate(a):\n",
    "    if val in seen:\n",
    "        result[i] = True\n",
    "    else:\n",
    "        seen.add(val)\n",
    "print(result)"
   ]
  }
 ],
 "metadata": {
  "kernelspec": {
   "display_name": "data-science-eJ8EhroE-py3.12",
   "language": "python",
   "name": "python3"
  },
  "language_info": {
   "codemirror_mode": {
    "name": "ipython",
    "version": 3
   },
   "file_extension": ".py",
   "mimetype": "text/x-python",
   "name": "python",
   "nbconvert_exporter": "python",
   "pygments_lexer": "ipython3",
   "version": "3.12.10"
  }
 },
 "nbformat": 4,
 "nbformat_minor": 5
}
