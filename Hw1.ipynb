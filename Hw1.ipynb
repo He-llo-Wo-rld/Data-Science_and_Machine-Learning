{
 "cells": [
  {
   "cell_type": "code",
   "execution_count": null,
   "id": "243650cc",
   "metadata": {},
   "outputs": [],
   "source": [
    "import numpy as np"
   ]
  },
  {
   "cell_type": "markdown",
   "id": "ba06809a",
   "metadata": {},
   "source": [
    "#4.Створіть масив розміром 4x4, заповніть його випадковими дійсними числами в діапазоні від 0 до 1 та виведіть його значення."
   ]
  },
  {
   "cell_type": "code",
   "execution_count": 13,
   "id": "6de57b93",
   "metadata": {},
   "outputs": [
    {
     "name": "stdout",
     "output_type": "stream",
     "text": [
      "[[0.40683946 0.55496891 0.98623304 0.66435675]\n",
      " [0.85257955 0.08954311 0.68022368 0.79640898]\n",
      " [0.63322991 0.33998543 0.205293   0.33206592]\n",
      " [0.64546996 0.85306125 0.60875135 0.72849781]]\n"
     ]
    }
   ],
   "source": [
    "a =np.random.random((4,4))\n",
    "print(a)"
   ]
  },
  {
   "cell_type": "markdown",
   "id": "9819fe5a",
   "metadata": {},
   "source": [
    "#3.Створіть масив розміром 5x5, заповніть його випадковими цілими числами в діапазоні від 1 до 10 та виведіть його значення."
   ]
  },
  {
   "cell_type": "code",
   "execution_count": 7,
   "id": "52f4a58a",
   "metadata": {},
   "outputs": [
    {
     "name": "stdout",
     "output_type": "stream",
     "text": [
      "[[10  9  7  5  3]\n",
      " [ 6  8  5  6  6]\n",
      " [ 7  4  3  4  1]\n",
      " [ 6  3  4  9  2]\n",
      " [ 1  1  2  9 10]]\n"
     ]
    }
   ],
   "source": [
    "a= np.random.randint(1,11,(5,5))\n",
    "print(a)"
   ]
  },
  {
   "cell_type": "markdown",
   "id": "7e17409e",
   "metadata": {},
   "source": [
    "#2.Створіть двовимірний масив (матрицю) розміром 3x3, заповніть його нулями та виведіть його значення."
   ]
  },
  {
   "cell_type": "code",
   "execution_count": 4,
   "id": "72313f72",
   "metadata": {},
   "outputs": [
    {
     "name": "stdout",
     "output_type": "stream",
     "text": [
      "[[0. 0. 0.]\n",
      " [0. 0. 0.]\n",
      " [0. 0. 0.]]\n",
      "[[0 0 0]\n",
      " [0 0 0]\n",
      " [0 0 0]]\n"
     ]
    }
   ],
   "source": [
    "a=np.zeros((3,3))\n",
    "print(a)\n",
    "b=np.full((3,3),0)\n",
    "print(b)"
   ]
  },
  {
   "cell_type": "markdown",
   "id": "69d56265",
   "metadata": {},
   "source": [
    "#1.Створіть одновимірний масив (вектор) з першими 10-ма натуральними числами та виведіть його значення."
   ]
  },
  {
   "cell_type": "code",
   "execution_count": null,
   "id": "eee6450e",
   "metadata": {},
   "outputs": [
    {
     "name": "stdout",
     "output_type": "stream",
     "text": [
      "[ 1  2  3  4  5  6  7  8  9 10]\n"
     ]
    }
   ],
   "source": [
    "\n",
    "a = np.arange(1,11)\n",
    "print(a)"
   ]
  }
 ],
 "metadata": {
  "kernelspec": {
   "display_name": "Python 3 (ipykernel)",
   "language": "python",
   "name": "python3"
  },
  "language_info": {
   "codemirror_mode": {
    "name": "ipython",
    "version": 3
   },
   "file_extension": ".py",
   "mimetype": "text/x-python",
   "name": "python",
   "nbconvert_exporter": "python",
   "pygments_lexer": "ipython3",
   "version": "3.12.10"
  }
 },
 "nbformat": 4,
 "nbformat_minor": 5
}
